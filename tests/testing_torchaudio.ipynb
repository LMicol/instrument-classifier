{
 "cells": [
  {
   "cell_type": "code",
   "execution_count": null,
   "metadata": {},
   "outputs": [],
   "source": [
    "import torchaudio.transforms as transforms\n",
    "\n",
    "transform = transforms.MelSpectrogram(sample_rate=16000, n_mels=64)\n",
    "spectrogram = transform(audio_tensor)"
   ]
  }
 ],
 "metadata": {
  "language_info": {
   "name": "python"
  }
 },
 "nbformat": 4,
 "nbformat_minor": 2
}
