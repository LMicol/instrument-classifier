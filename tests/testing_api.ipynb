{
 "cells": [
  {
   "cell_type": "code",
   "execution_count": 1,
   "metadata": {},
   "outputs": [],
   "source": [
    "import io\n",
    "import requests\n",
    "import numpy as np\n",
    "import sounddevice as sd\n",
    "from pydub import AudioSegment\n",
    "from pydub.utils import mediainfo"
   ]
  },
  {
   "cell_type": "code",
   "execution_count": null,
   "metadata": {},
   "outputs": [],
   "source": [
    "# Constants\n",
    "API_URL = \"http://localhost:8001/predict_instrument\"\n",
    "DURATION = 2\n",
    "SAMPLE_RATE = 44100"
   ]
  },
  {
   "cell_type": "code",
   "execution_count": 8,
   "metadata": {},
   "outputs": [],
   "source": [
    "def record_audio(duration, sample_rate):\n",
    "    \"\"\"Record audio from the microphone.\"\"\"\n",
    "    print(f\"Recording for {duration} seconds...\")\n",
    "    audio_data = sd.rec(int(duration * sample_rate), samplerate=sample_rate, channels=1, dtype='float32')\n",
    "    sd.wait()  # Wait for the recording to finish\n",
    "    return audio_data.flatten()  # Flatten the array\n",
    "\n",
    "def prepare_audio(audio_data, sample_rate):\n",
    "    \"\"\"Prepare audio data for the API.\"\"\"\n",
    "    # Convert audio data to PCM format using pydub\n",
    "    audio_segment = AudioSegment(\n",
    "        np.int16(audio_data * 32767).tobytes(),  # Scale float32 to int16\n",
    "        frame_rate=sample_rate,\n",
    "        sample_width=2,\n",
    "        channels=1\n",
    "    )\n",
    "    buffer = io.BytesIO()\n",
    "    audio_segment.export(buffer, format=\"wav\")\n",
    "    buffer.seek(0)\n",
    "\n",
    "    # Check audio info (optional)\n",
    "    info = mediainfo(buffer)\n",
    "    print(\"Audio info:\", info)\n",
    "\n",
    "    return buffer.getvalue()"
   ]
  },
  {
   "cell_type": "code",
   "execution_count": 6,
   "metadata": {},
   "outputs": [
    {
     "name": "stdout",
     "output_type": "stream",
     "text": [
      "Recording for 2 seconds...\n"
     ]
    }
   ],
   "source": [
    "audio_data = record_audio(DURATION, SAMPLE_RATE)"
   ]
  },
  {
   "cell_type": "code",
   "execution_count": 54,
   "metadata": {},
   "outputs": [
    {
     "name": "stderr",
     "output_type": "stream",
     "text": [
      "ALSA lib pcm_dsnoop.c:601:(snd_pcm_dsnoop_open) unable to open slave\n",
      "ALSA lib pcm_dmix.c:1032:(snd_pcm_dmix_open) unable to open slave\n",
      "ALSA lib pcm.c:2664:(snd_pcm_open_noupdate) Unknown PCM cards.pcm.rear\n",
      "ALSA lib pcm.c:2664:(snd_pcm_open_noupdate) Unknown PCM cards.pcm.center_lfe\n",
      "ALSA lib pcm.c:2664:(snd_pcm_open_noupdate) Unknown PCM cards.pcm.side\n",
      "Cannot connect to server socket err = No such file or directory\n",
      "Cannot connect to server request channel\n",
      "jack server is not running or cannot be started\n",
      "JackShmReadWritePtr::~JackShmReadWritePtr - Init not done for -1, skipping unlock\n",
      "JackShmReadWritePtr::~JackShmReadWritePtr - Init not done for -1, skipping unlock\n",
      "Cannot connect to server socket err = No such file or directory\n",
      "Cannot connect to server request channel\n",
      "jack server is not running or cannot be started\n",
      "JackShmReadWritePtr::~JackShmReadWritePtr - Init not done for -1, skipping unlock\n",
      "JackShmReadWritePtr::~JackShmReadWritePtr - Init not done for -1, skipping unlock\n",
      "ALSA lib pcm_oss.c:397:(_snd_pcm_oss_open) Cannot open device /dev/dsp\n",
      "ALSA lib pcm_oss.c:397:(_snd_pcm_oss_open) Cannot open device /dev/dsp\n",
      "ALSA lib confmisc.c:160:(snd_config_get_card) Invalid field card\n",
      "ALSA lib pcm_usb_stream.c:482:(_snd_pcm_usb_stream_open) Invalid card 'card'\n",
      "ALSA lib confmisc.c:160:(snd_config_get_card) Invalid field card\n",
      "ALSA lib pcm_usb_stream.c:482:(_snd_pcm_usb_stream_open) Invalid card 'card'\n",
      "ALSA lib pcm_dmix.c:1032:(snd_pcm_dmix_open) unable to open slave\n"
     ]
    },
    {
     "name": "stdout",
     "output_type": "stream",
     "text": [
      "Recording...\n"
     ]
    }
   ],
   "source": [
    "import pyaudio\n",
    "import wave\n",
    "\n",
    "# Parameters\n",
    "chunk = 1024  # Record in chunks of 1024 samples\n",
    "sample_format = pyaudio.paInt16  # 16 bits per sample\n",
    "channels = 2  # Stereo\n",
    "sample_rate = 44100  # Sample rate\n",
    "duration = 5  # Duration of recording in seconds\n",
    "filename = \"recording.wav\"\n",
    "\n",
    "# Initialize PyAudio\n",
    "p = pyaudio.PyAudio()\n",
    "\n",
    "# Open a stream\n",
    "stream = p.open(format=sample_format,\n",
    "                channels=channels,\n",
    "                rate=sample_rate,\n",
    "                frames_per_buffer=chunk,\n",
    "                input=True)\n",
    "\n",
    "print(\"Recording...\")\n",
    "frames = []\n",
    "\n",
    "# Record in chunks\n",
    "for _ in range(0, int(sample_rate / chunk * duration)):\n",
    "    data = stream.read(chunk)\n",
    "    frames.append(data)\n",
    "\n",
    "# Stop and close the stream\n",
    "stream.stop_stream()\n",
    "stream.close()\n",
    "p.terminate()\n",
    "\n",
    "# Save as a WAV file\n",
    "with wave.open(filename, 'wb') as wf:\n",
    "    wf.setnchannels(channels)\n",
    "    wf.setsampwidth(p.get_sample_size(sample_format))\n",
    "    wf.setframerate(sample_rate)\n",
    "    wf.writeframes(b''.join(frames))"
   ]
  },
  {
   "cell_type": "code",
   "execution_count": 15,
   "metadata": {},
   "outputs": [],
   "source": [
    "payload = {\n",
    "    \"audio\": audio_data.tolist(),\n",
    "    \"sampling_rate\": SAMPLE_RATE\n",
    "}"
   ]
  },
  {
   "cell_type": "code",
   "execution_count": 16,
   "metadata": {},
   "outputs": [],
   "source": [
    "response = requests.post(API_URL, json=payload)"
   ]
  },
  {
   "cell_type": "code",
   "execution_count": 1,
   "metadata": {},
   "outputs": [],
   "source": [
    "import torch\n",
    "from AudioClassifier import AudioClassifier"
   ]
  },
  {
   "cell_type": "code",
   "execution_count": 2,
   "metadata": {},
   "outputs": [
    {
     "data": {
      "text/plain": [
       "AudioClassifier(\n",
       "  (conv1): Conv2d(1, 16, kernel_size=(3, 3), stride=(1, 1), padding=(1, 1))\n",
       "  (conv2): Conv2d(16, 32, kernel_size=(3, 3), stride=(1, 1), padding=(1, 1))\n",
       "  (conv3): Conv2d(32, 64, kernel_size=(3, 3), stride=(1, 1), padding=(1, 1))\n",
       "  (pool): MaxPool2d(kernel_size=2, stride=2, padding=0, dilation=1, ceil_mode=False)\n",
       "  (fc1): Linear(in_features=1344, out_features=128, bias=True)\n",
       "  (fc2): Linear(in_features=128, out_features=4, bias=True)\n",
       "  (dropout): Dropout(p=0.3, inplace=False)\n",
       ")"
      ]
     },
     "execution_count": 2,
     "metadata": {},
     "output_type": "execute_result"
    }
   ],
   "source": [
    "# Model configuration\n",
    "model = AudioClassifier()\n",
    "model.load_state_dict(torch.load(\"../src/server/model.pth\", weights_only=True, map_location=torch.device('cpu')))\n",
    "device = torch.device(\"cuda\" if torch.cuda.is_available() else \"cpu\")\n",
    "model.to(device)\n",
    "model.eval()"
   ]
  },
  {
   "cell_type": "code",
   "execution_count": 3,
   "metadata": {},
   "outputs": [],
   "source": [
    "# Define constants\n",
    "N_MFCC = 15\n",
    "TARGET_SR = 44100\n",
    "DURATION = 2"
   ]
  },
  {
   "cell_type": "code",
   "execution_count": 4,
   "metadata": {},
   "outputs": [],
   "source": [
    "import torchaudio\n",
    "from torchaudio.transforms import Resample, MFCC\n",
    "\n",
    "def preprocess_wav(file_path, target_sr=TARGET_SR, n_mfcc=N_MFCC, duration=DURATION):\n",
    "    # Load audio\n",
    "    waveform, sr = torchaudio.load(file_path)\n",
    "\n",
    "    # Resample if necessary\n",
    "    if sr != target_sr:\n",
    "        resample = Resample(orig_freq=sr, new_freq=target_sr)\n",
    "        waveform = resample(waveform)\n",
    "\n",
    "    # Duration in samples\n",
    "    num_samples = target_sr * duration\n",
    "\n",
    "    # Trim or pad waveform\n",
    "    if waveform.shape[1] > num_samples:\n",
    "        waveform = waveform[:, :num_samples]  # Truncate\n",
    "    else:\n",
    "        padding = num_samples - waveform.shape[1]\n",
    "        waveform = torch.nn.functional.pad(waveform, (0, padding))  # Pad with zeros\n",
    "\n",
    "    # Extract MFCCs\n",
    "    mfcc = MFCC(\n",
    "        sample_rate=target_sr,\n",
    "        n_mfcc=n_mfcc,\n",
    "        melkwargs={\"n_fft\": 1024, \"hop_length\": 512, \"n_mels\": 64}\n",
    "    )(waveform)\n",
    "\n",
    "    # Ensure single channel dimension\n",
    "    mfcc = mfcc.unsqueeze(1)  # Adding channel dimension (1)\n",
    "\n",
    "    return mfcc"
   ]
  },
  {
   "cell_type": "code",
   "execution_count": 5,
   "metadata": {},
   "outputs": [],
   "source": [
    "mfcc_features = preprocess_wav('recording.wav', TARGET_SR, N_MFCC, DURATION)"
   ]
  },
  {
   "cell_type": "code",
   "execution_count": null,
   "metadata": {},
   "outputs": [],
   "source": [
    "# Inference\n",
    "with torch.no_grad():\n",
    "    outputs = model(mfcc_features)\n",
    "    _, predicted_class = torch.max(outputs, 1)"
   ]
  },
  {
   "cell_type": "code",
   "execution_count": null,
   "metadata": {},
   "outputs": [
    {
     "data": {
      "text/plain": [
       "1"
      ]
     },
     "execution_count": 15,
     "metadata": {},
     "output_type": "execute_result"
    }
   ],
   "source": [
    "import librosa\n",
    "librosa.load(io.BytesIO(sound))"
   ]
  },
  {
   "cell_type": "code",
   "execution_count": 9,
   "metadata": {},
   "outputs": [
    {
     "data": {
      "text/plain": [
       "tensor([1, 1])"
      ]
     },
     "execution_count": 9,
     "metadata": {},
     "output_type": "execute_result"
    }
   ],
   "source": [
    "predicted_class"
   ]
  },
  {
   "cell_type": "code",
   "execution_count": 7,
   "metadata": {},
   "outputs": [
    {
     "data": {
      "text/plain": [
       "tensor([[-0.6716,  1.3333,  0.8122, -0.6638],\n",
       "        [-0.5137,  0.8274,  0.6384, -0.5072]])"
      ]
     },
     "execution_count": 7,
     "metadata": {},
     "output_type": "execute_result"
    }
   ],
   "source": [
    "outputs"
   ]
  },
  {
   "cell_type": "code",
   "execution_count": 8,
   "metadata": {},
   "outputs": [
    {
     "data": {
      "text/plain": [
       "tensor([1, 1])"
      ]
     },
     "execution_count": 8,
     "metadata": {},
     "output_type": "execute_result"
    }
   ],
   "source": [
    "predicted_class"
   ]
  },
  {
   "cell_type": "code",
   "execution_count": null,
   "metadata": {},
   "outputs": [],
   "source": []
  },
  {
   "cell_type": "code",
   "execution_count": null,
   "metadata": {},
   "outputs": [],
   "source": []
  },
  {
   "cell_type": "code",
   "execution_count": 74,
   "metadata": {},
   "outputs": [],
   "source": [
    "import librosa\n",
    "audio_data, sample_rate = librosa.load('recording.wav')"
   ]
  },
  {
   "cell_type": "code",
   "execution_count": 75,
   "metadata": {},
   "outputs": [],
   "source": [
    "# Convert to PyTorch tensor\n",
    "audio_tensor = torch.tensor(audio_data, dtype=torch.float32)"
   ]
  },
  {
   "cell_type": "code",
   "execution_count": 76,
   "metadata": {},
   "outputs": [],
   "source": [
    "# Resample if needed\n",
    "target_sr = 44100\n",
    "if sample_rate != target_sr:\n",
    "    resample_transform = Resample(orig_freq=sample_rate, new_freq=target_sr)\n",
    "    audio_tensor = resample_transform(audio_tensor)"
   ]
  },
  {
   "cell_type": "code",
   "execution_count": 77,
   "metadata": {},
   "outputs": [],
   "source": [
    "# Find the loudest part of the audio\n",
    "max_idx = torch.argmax(audio_tensor)\n",
    "start_idx = max(0, max_idx - target_sr)\n",
    "end_idx = min(audio_tensor.size(0), max_idx + target_sr)\n",
    "\n",
    "audio_tensor = audio_tensor[start_idx:end_idx]"
   ]
  },
  {
   "cell_type": "code",
   "execution_count": 78,
   "metadata": {},
   "outputs": [],
   "source": [
    "num_samples = target_sr * 2\n",
    "\n",
    "if audio_tensor.shape[0] > num_samples:\n",
    "    audio_tensor = audio_tensor[:num_samples]\n",
    "else:\n",
    "    padding = num_samples - audio_tensor.shape[0]\n",
    "    audio_tensor = torch.nn.functional.pad(audio_tensor, (0, padding))"
   ]
  },
  {
   "cell_type": "code",
   "execution_count": 90,
   "metadata": {},
   "outputs": [],
   "source": [
    "mfcc_transform = MFCC(\n",
    "    sample_rate=target_sr,\n",
    "    n_mfcc=15,\n",
    "    melkwargs={\n",
    "        \"n_fft\": 1024,\n",
    "        \"hop_length\": 512,\n",
    "        \"n_mels\": 64\n",
    "    }\n",
    ")\n",
    "# Convert to MFCC\n",
    "mfcc = mfcc_transform(audio_tensor).unsqueeze(0)"
   ]
  }
 ],
 "metadata": {
  "kernelspec": {
   "display_name": "audio-model",
   "language": "python",
   "name": "python3"
  },
  "language_info": {
   "codemirror_mode": {
    "name": "ipython",
    "version": 3
   },
   "file_extension": ".py",
   "mimetype": "text/x-python",
   "name": "python",
   "nbconvert_exporter": "python",
   "pygments_lexer": "ipython3",
   "version": "3.11.11"
  }
 },
 "nbformat": 4,
 "nbformat_minor": 2
}
